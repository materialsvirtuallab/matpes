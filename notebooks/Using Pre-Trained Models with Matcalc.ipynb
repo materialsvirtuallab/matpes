{
 "cells": [
  {
   "cell_type": "code",
   "execution_count": null,
   "id": "0",
   "metadata": {},
   "outputs": [
    {
     "name": "stderr",
     "output_type": "stream",
     "text": [
      "/Users/shyue/repos/matgl/src/matgl/apps/pes.py:69: UserWarning: To copy construct from a tensor, it is recommended to use sourceTensor.clone().detach() or sourceTensor.clone().detach().requires_grad_(True), rather than torch.tensor(sourceTensor).\n",
      "  self.element_refs = AtomRef(property_offset=torch.tensor(element_refs, dtype=matgl.float_th))\n",
      "/Users/shyue/repos/matgl/src/matgl/apps/pes.py:75: UserWarning: To copy construct from a tensor, it is recommended to use sourceTensor.clone().detach() or sourceTensor.clone().detach().requires_grad_(True), rather than torch.tensor(sourceTensor).\n",
      "  self.register_buffer(\"data_mean\", torch.tensor(data_mean, dtype=matgl.float_th))\n",
      "/Users/shyue/repos/matgl/src/matgl/apps/pes.py:76: UserWarning: To copy construct from a tensor, it is recommended to use sourceTensor.clone().detach() or sourceTensor.clone().detach().requires_grad_(True), rather than torch.tensor(sourceTensor).\n",
      "  self.register_buffer(\"data_std\", torch.tensor(data_std, dtype=matgl.float_th))\n"
     ]
    }
   ],
   "source": [
    "from __future__ import annotations\n",
    "\n",
    "import matgl\n",
    "from matcalc.elasticity import ElasticityCalc\n",
    "from matgl.ext.ase import PESCalculator\n",
    "from pymatgen.ext.matproj import MPRester\n",
    "\n",
    "model = matgl.load_model(\"TensorNet-MatPES-PBE-v2025.1-PES\")\n",
    "ase_calc = PESCalculator(model)\n",
    "c = ElasticityCalc(ase_calc)"
   ]
  },
  {
   "cell_type": "markdown",
   "id": "1",
   "metadata": {},
   "source": [
    "Let us obtain the structure of Si from the Materials Project API"
   ]
  },
  {
   "cell_type": "code",
   "execution_count": null,
   "id": "2",
   "metadata": {},
   "outputs": [],
   "source": [
    "mpr = MPRester()"
   ]
  },
  {
   "cell_type": "code",
   "execution_count": null,
   "id": "3",
   "metadata": {},
   "outputs": [
    {
     "name": "stdout",
     "output_type": "stream",
     "text": [
      "Full Formula (Si2)\n",
      "Reduced Formula: Si\n",
      "abc   :   3.849278   3.849279   3.849278\n",
      "angles:  60.000012  60.000003  60.000011\n",
      "pbc   :       True       True       True\n",
      "Sites (2)\n",
      "  #  SP        a      b      c    magmom\n",
      "---  ----  -----  -----  -----  --------\n",
      "  0  Si    0.875  0.875  0.875        -0\n",
      "  1  Si    0.125  0.125  0.125        -0\n"
     ]
    }
   ],
   "source": [
    "si = mpr.get_structure_by_material_id(\"mp-149\")\n",
    "print(si)"
   ]
  },
  {
   "cell_type": "code",
   "execution_count": null,
   "id": "4",
   "metadata": {},
   "outputs": [],
   "source": [
    "pred = c.calc(si)"
   ]
  },
  {
   "cell_type": "markdown",
   "id": "5",
   "metadata": {},
   "source": [
    "For comparison, let's obtain the DFT computed values from Materials Project"
   ]
  },
  {
   "cell_type": "code",
   "execution_count": null,
   "id": "6",
   "metadata": {},
   "outputs": [],
   "source": [
    "mp_data = mpr.get_summary_by_material_id(\"mp-149\")"
   ]
  },
  {
   "cell_type": "code",
   "execution_count": null,
   "id": "7",
   "metadata": {},
   "outputs": [
    {
     "name": "stdout",
     "output_type": "stream",
     "text": [
      "K_VRH: TensorNet-MatPES-PBE = 101.15424648468968; DFT = 88.916\n",
      "G_VRH: TensorNet-MatPES-PBE = 62.546024424713266; DFT = 62.445\n"
     ]
    }
   ],
   "source": [
    "print(f\"K_VRH: TensorNet-MatPES-PBE = {pred['bulk_modulus_vrh']}; DFT = {mp_data['bulk_modulus']['vrh']}\")\n",
    "print(f\"G_VRH: TensorNet-MatPES-PBE = {pred['shear_modulus_vrh']}; DFT = {mp_data['shear_modulus']['vrh']}\")"
   ]
  }
 ],
 "metadata": {
  "kernelspec": {
   "display_name": "Python 3 (ipykernel)",
   "language": "python",
   "name": "python3"
  },
  "language_info": {
   "codemirror_mode": {
    "name": "ipython",
    "version": 3
   },
   "file_extension": ".py",
   "mimetype": "text/x-python",
   "name": "python",
   "nbconvert_exporter": "python",
   "pygments_lexer": "ipython3",
   "version": "3.11.10"
  }
 },
 "nbformat": 4,
 "nbformat_minor": 5
}
