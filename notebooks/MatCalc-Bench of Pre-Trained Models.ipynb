{
 "cells": [
  {
   "cell_type": "markdown",
   "id": "08a80218-07c9-476e-9a61-5133413f10d1",
   "metadata": {},
   "source": [
    "Firstly, we import necessarcy packages, eg. MatCalc, MatGL and Pymatgen."
   ]
  },
  {
   "cell_type": "code",
   "execution_count": 1,
   "id": "24e2cac2-86b0-41a8-9cc2-2c7752c04e3e",
   "metadata": {},
   "outputs": [],
   "source": [
    "from __future__ import annotations\n",
    "\n",
    "import json\n",
    "import random\n",
    "import warnings\n",
    "\n",
    "import matgl\n",
    "import numpy as np\n",
    "from matcalc.elasticity import ElasticityCalc\n",
    "from matcalc.phonon import PhononCalc\n",
    "from matgl.ext.ase import PESCalculator\n",
    "from pymatgen.core import Structure\n",
    "\n",
    "# To suppress warnings for clearer output\n",
    "warnings.simplefilter(\"ignore\")"
   ]
  },
  {
   "cell_type": "markdown",
   "id": "badeaa01-4600-4d3e-9c36-1db417a4f33e",
   "metadata": {},
   "source": [
    "We leverage the physical constants provided by SciPy to convert stress units, ensuring compatibility with the ASE calculator."
   ]
  },
  {
   "cell_type": "code",
   "execution_count": 2,
   "id": "97c2cc20-2d48-445e-be10-1a77cdb6d9c5",
   "metadata": {},
   "outputs": [],
   "source": [
    "from scipy import constants\n",
    "\n",
    "eVA3ToGPa = constants.e/(constants.angstrom)**3/constants.giga"
   ]
  },
  {
   "cell_type": "markdown",
   "id": "47c1a8fb-9655-4d7b-80d7-a2ca3d0fa7f8",
   "metadata": {},
   "source": [
    "Next, I will show you how to run MatCalc-Bench. Here, TensorNet-MatPES-PBE-v2025.1-PES and M3GNet-MatPES-PBE-v2025.1-PES are used to perform elastic modulus and constant-volume heat capacity calculations. The approach is similar for other models and other benchmarks.\n",
    "\n",
    "For demonstration purposes only, I randomly sample 1% of the entire test dataset for benchmarking. Consequently, the values presented here may differ from those reported on our website and in the paper. "
   ]
  },
  {
   "cell_type": "code",
   "execution_count": 3,
   "id": "dc850f40-4f0d-43e2-95c6-a0ca1540ff6e",
   "metadata": {},
   "outputs": [
    {
     "name": "stdout",
     "output_type": "stream",
     "text": [
      "TensorNet-MatPES-PBE-v2025.1-PES\n",
      "Bulk Modulus: 14.198907191944855\n",
      "Shear Modulus: 13.262304643180377\n",
      "M3GNet-MatPES-PBE-v2025.1-PES\n",
      "Bulk Modulus: 29.734312380439942\n",
      "Shear Modulus: 16.055060961437153\n"
     ]
    }
   ],
   "source": [
    "# -------------------------------\n",
    "# Elastic Property Benchmarking\n",
    "# -------------------------------\n",
    "# Loop over the two different potential models to benchmark their performance on elastic properties,\n",
    "# specifically the bulk and shear moduli.\n",
    "from __future__ import annotations\n",
    "\n",
    "for model_name in [\n",
    "    \"TensorNet-MatPES-PBE-v2025.1-PES\",\n",
    "    \"M3GNet-MatPES-PBE-v2025.1-PES\",\n",
    "]:\n",
    "    # Load the ML potential model specified by model_name.\n",
    "    potential = matgl.load_model(model_name)\n",
    "\n",
    "    # Initialize the PES calculator with the loaded potential.\n",
    "    # The 'stress_weight' parameter is set using the conversion factor to convert stress to GPa.\n",
    "    calculator = PESCalculator(potential, stress_weight=1/eVA3ToGPa)\n",
    "\n",
    "    # Output the model name for clarity in the benchmarking log.\n",
    "    print(model_name)\n",
    "\n",
    "    # Load benchmark elasticity data from a JSON file.\n",
    "    # The file contains mp_ids, formulas, structures and reference values for bulk and shear moduli.\n",
    "    with open(\"matcalc-bench-data/elastic.json\") as f:\n",
    "        entries = json.load(f)\n",
    "\n",
    "    random.seed(2025)\n",
    "    # Randomly sample 1% of the available entries to reduce computational cost.\n",
    "    sampled_entries = random.sample(entries, len(entries)//100)\n",
    "\n",
    "    # Create an instance of the elasticity calculator.\n",
    "    # fmax sets the maximum force tolerance and relax_structure=True enables structure relaxation during calculations.\n",
    "    elastc_calc = ElasticityCalc(calculator, fmax=0.05, relax_structure=True)\n",
    "\n",
    "    # Lists to store absolute errors for bulk and shear moduli for each benchmark entry.\n",
    "    bulk_modulus_ae = []\n",
    "    shear_modulus_ae = []\n",
    "\n",
    "    # Iterate over each sampled benchmark entry.\n",
    "    for entry in sampled_entries:\n",
    "        # Convert the stored dictionary representation of the structure into a pymatgen Structure object.\n",
    "        structure = Structure.from_dict(entry[\"structure\"])\n",
    "\n",
    "        # Calculate elastic moduli for the given structure.\n",
    "        properties = elastc_calc.calc(structure)\n",
    "\n",
    "        # Compute the absolute error for the bulk modulus.\n",
    "        # The calculated value is converted from eV/Å^3 to GPa for direct comparison with the benchmark.\n",
    "        bulk_modulus_err = abs(entry[\"bulk_modulus_vrh\"]-properties[\"bulk_modulus_vrh\"]*eVA3ToGPa)\n",
    "        # Compute the absolute error for the shear modulus similarly.\n",
    "        shear_modulus_err = abs(entry[\"shear_modulus_vrh\"]-properties[\"shear_modulus_vrh\"]*eVA3ToGPa)\n",
    "\n",
    "        # Append the error values for this entry to the lists.\n",
    "        bulk_modulus_ae.append(bulk_modulus_err)\n",
    "        shear_modulus_ae.append(shear_modulus_err)\n",
    "\n",
    "    # Compute the mean absolute error (MAE) for both bulk and shear moduli,\n",
    "    bulk_modulus_mae = np.mean(bulk_modulus_ae)\n",
    "    shear_modulus_mae = np.mean(shear_modulus_ae)\n",
    "\n",
    "    # Print out the MAE results for the current model.\n",
    "    print(f\"Bulk Modulus: {bulk_modulus_mae}\")\n",
    "    print(f\"Shear Modulus: {shear_modulus_mae}\")"
   ]
  },
  {
   "cell_type": "code",
   "execution_count": 4,
   "id": "99667507-b988-44cf-a20e-14975626c687",
   "metadata": {},
   "outputs": [
    {
     "name": "stdout",
     "output_type": "stream",
     "text": [
      "TensorNet-MatPES-PBE-v2025.1-PES\n",
      "Constant-Volume Heat Capacity: 9.051091815387984\n",
      "M3GNet-MatPES-PBE-v2025.1-PES\n",
      "Constant-Volume Heat Capacity: 12.975157587868738\n"
     ]
    }
   ],
   "source": [
    "# -------------------------------\n",
    "# Phonon Property Benchmarking\n",
    "# -------------------------------\n",
    "# Loop over the same two potential models to benchmark their performance on phonon properties,\n",
    "# specifically the constant-volume heat capacity.\n",
    "from __future__ import annotations\n",
    "\n",
    "for model_name in [\n",
    "    \"TensorNet-MatPES-PBE-v2025.1-PES\",\n",
    "    \"M3GNet-MatPES-PBE-v2025.1-PES\",\n",
    "]:\n",
    "    # Load the ML potential model.\n",
    "    potential = matgl.load_model(model_name)\n",
    "\n",
    "    # Initialize the PES calculator with the loaded potential.\n",
    "    calculator = PESCalculator(potential, stress_weight=1/eVA3ToGPa)\n",
    "\n",
    "    # Output the model name for clarity in the benchmarking log.\n",
    "    print(model_name)\n",
    "\n",
    "    # Load benchmark phonon data from a JSON file.\n",
    "    # The file contains mp_ids, formulas, structures and reference values for constant-volume heat capacity.\n",
    "    with open(\"matcalc-bench-data/phonon.json\") as f:\n",
    "        entries = json.load(f)\n",
    "\n",
    "    random.seed(2025)\n",
    "    # Randomly sample 1% of the available phonon entries.\n",
    "    sampled_entries = random.sample(entries, len(entries)//100)\n",
    "\n",
    "    # Create an instance of the phonon calculator.\n",
    "    # fmax sets the force tolerance, relax_structure=True allows for relaxation, and\n",
    "    # write_phonon=False disables writing phonon output files.\n",
    "    phonon_calc = PhononCalc(calculator, fmax=0.05, relax_structure=True, write_phonon=False)\n",
    "\n",
    "    # List to store the absolute error in constant-volume heat capacity for each entry.\n",
    "    heat_capacity_ae = []\n",
    "\n",
    "    # Iterate over each sampled benchmark entry.\n",
    "    for entry in sampled_entries:\n",
    "        # Convert the structure dictionary into a pymatgen Structure object.\n",
    "        structure = Structure.from_dict(entry[\"structure\"])\n",
    "\n",
    "        # Calculate the phonon properties for the structure.\n",
    "        properties = phonon_calc.calc(structure)\n",
    "\n",
    "        # Compute the absolute error for the constant-volume heat capacity at 300 K.\n",
    "        heat_capacity_err = abs(entry[\"heat_capacity\"]-properties[\"thermal_properties\"][\"heat_capacity\"][30])\n",
    "\n",
    "        # Append the error for this entry to the list.\n",
    "        heat_capacity_ae.append(heat_capacity_err)\n",
    "\n",
    "    # Compute the mean absolute error (MAE) for the constant-volume heat capacity, ignoring NaN values.\n",
    "    heat_capacity_mae = np.mean(heat_capacity_ae)\n",
    "\n",
    "    # Print out the MAE result for the current model.\n",
    "    print(f\"Constant-Volume Heat Capacity: {heat_capacity_mae}\")"
   ]
  },
  {
   "cell_type": "markdown",
   "id": "2b84fe8f-513c-4684-9db1-c16c9f05e3f6",
   "metadata": {},
   "source": [
    "You can certainly perform the full benchmark by slightly modifying the codes provided below, but please be aware that the whole process is considerably time consuming. Therefore, I recommend submitting separate jobs to your cluster for every material—or every few materials, depending on your resource availability and workflow preferences."
   ]
  }
 ],
 "metadata": {
  "kernelspec": {
   "display_name": "MAVRL",
   "language": "python",
   "name": "mavrl"
  },
  "language_info": {
   "codemirror_mode": {
    "name": "ipython",
    "version": 3
   },
   "file_extension": ".py",
   "mimetype": "text/x-python",
   "name": "python",
   "nbconvert_exporter": "python",
   "pygments_lexer": "ipython3",
   "version": "3.9.18"
  }
 },
 "nbformat": 4,
 "nbformat_minor": 5
}
