{
 "cells": [
  {
   "cell_type": "markdown",
   "id": "0",
   "metadata": {},
   "source": [
    "# Introduction \n",
    "\n",
    "This notebook demonstrates the fitting of a TensorNet UMLIP using the MatPES v2025.1 PBE dataset. Fitting of other architectures in MatGL with either the PBE or r2SCAN datasets is similar.\n",
    "\n",
    "**Important Note**: The training data sizes and maximum number of epochs chosen in the notebook are deliberately small so that the notebook will run within a reasonably short amount of time on a single CPU (~5-10 mins) for demonstration purposes. **The resulting model is not expected to be production quality**. When properly training a model, use the entire dataset with a much greater number of epochs."
   ]
  },
  {
   "cell_type": "code",
   "execution_count": 24,
   "id": "1",
   "metadata": {},
   "outputs": [],
   "source": [
    "from __future__ import annotations\n",
    "\n",
    "import json\n",
    "import os\n",
    "import shutil\n",
    "from functools import partial\n",
    "import collections\n",
    "\n",
    "import lightning as pl\n",
    "import numpy as np\n",
    "import torch\n",
    "from ase.stress import voigt_6_to_full_3x3_stress\n",
    "from dgl.data.utils import split_dataset\n",
    "from lightning.pytorch.callbacks import ModelCheckpoint\n",
    "from lightning.pytorch.callbacks.early_stopping import EarlyStopping\n",
    "from lightning.pytorch.loggers import CSVLogger\n",
    "from matgl.config import DEFAULT_ELEMENTS\n",
    "from matgl.ext.pymatgen import Structure2Graph\n",
    "from matgl.graph.data import MGLDataLoader, MGLDataset, collate_fn_pes\n",
    "from matgl.models import TensorNet\n",
    "from matgl.utils.training import PotentialLightningModule, xavier_init\n",
    "from monty.io import zopen\n",
    "from pymatgen.core import Structure\n",
    "from torch.optim.lr_scheduler import CosineAnnealingLR\n",
    "from tqdm import tqdm\n",
    "\n",
    "from matpes.data import get_data"
   ]
  },
  {
   "cell_type": "code",
   "execution_count": 2,
   "id": "2",
   "metadata": {},
   "outputs": [],
   "source": [
    "data = get_data(\"PBE\", download_atoms=True)"
   ]
  },
  {
   "cell_type": "markdown",
   "id": "3",
   "metadata": {},
   "source": [
    "We need to load the atomic energies as the zero reference."
   ]
  },
  {
   "cell_type": "code",
   "execution_count": 3,
   "id": "4",
   "metadata": {},
   "outputs": [
    {
     "data": {
      "text/plain": [
       "89"
      ]
     },
     "execution_count": 3,
     "metadata": {},
     "output_type": "execute_result"
    }
   ],
   "source": [
    "with zopen(\"MatPES-PBE-atoms.json.gz\", \"rt\") as f:\n",
    "    isolated_energies_pbe = json.load(f)\n",
    "isolated_energies_pbe = {d[\"elements\"][0]: d[\"energy\"] for d in isolated_energies_pbe}\n",
    "len(isolated_energies_pbe)"
   ]
  },
  {
   "cell_type": "code",
   "execution_count": 4,
   "id": "5",
   "metadata": {},
   "outputs": [
    {
     "name": "stderr",
     "output_type": "stream",
     "text": [
      "100%|██████████████████████████████████████████████████████████████████████████████████████████████████████████████████████████████████████████████████████████████████████████████████████████████████████████████| 434712/434712 [00:54<00:00, 8021.74it/s]\n"
     ]
    }
   ],
   "source": [
    "# Initialize the lists for storing structures with energies, forces, and optional stresses\n",
    "structures = []\n",
    "labels = collections.defaultdict(list)\n",
    "\n",
    "for d in tqdm(data):\n",
    "    structures.append(Structure.from_dict(d[\"structure\"]))\n",
    "    labels[\"energies\"].append(d[\"energy\"])\n",
    "    labels[\"forces\"].append(d[\"forces\"])\n",
    "    labels[\"stresses\"].append((voigt_6_to_full_3x3_stress(np.array(d[\"stress\"])) * -0.1).tolist())"
   ]
  },
  {
   "cell_type": "markdown",
   "id": "6",
   "metadata": {},
   "source": [
    "# Loading the data into the the MGLDataSet"
   ]
  },
  {
   "cell_type": "code",
   "execution_count": 5,
   "id": "7",
   "metadata": {},
   "outputs": [
    {
     "name": "stderr",
     "output_type": "stream",
     "text": [
      "100%|██████████████████████████████████████████████████████████████████████████████████████████████████████████████████████████████████████████████████████████████████████████████████████████████████████████████| 434712/434712 [03:07<00:00, 2323.23it/s]\n"
     ]
    }
   ],
   "source": [
    "# define the graph converter for periodic systems\n",
    "element_types = DEFAULT_ELEMENTS\n",
    "cry_graph = Structure2Graph(element_types=element_types, cutoff=5.0)\n",
    "dataset = MGLDataset(structures=structures, converter=cry_graph, labels=labels)"
   ]
  },
  {
   "cell_type": "markdown",
   "id": "c24b6056-f17d-4fcc-83de-9c52860be4ce",
   "metadata": {},
   "source": [
    "# Data split\n",
    "\n",
    "For the purposes for demonstration, we are only going to use 2% of the data for trainining and 0.1% of the data for validation. In a real training, you should use a split such as 90%:10% or 95%:5%."
   ]
  },
  {
   "cell_type": "code",
   "execution_count": 19,
   "id": "9",
   "metadata": {},
   "outputs": [],
   "source": [
    "training_set, validation_set, _ = split_dataset(dataset, [0.02, 0.001, 0.979], random_state=42, shuffle=True)\n",
    "# define the proper collate function for MGLDataLoader\n",
    "collate_fn = partial(collate_fn_pes, include_line_graph=False, include_stress=True)\n",
    "# initialize dataloader for training and validation\n",
    "train_loader, val_loader = MGLDataLoader(\n",
    "    train_data=training_set,\n",
    "    val_data=validation_set,\n",
    "    collate_fn=collate_fn,\n",
    "    batch_size=32,\n",
    "    num_workers=0,\n",
    ")"
   ]
  },
  {
   "cell_type": "markdown",
   "id": "10",
   "metadata": {},
   "source": [
    "# Model Setup\n",
    "\n",
    "Here, we demonstrate the initialization of the TensorNet architecture. You may use any of the other architectures implemented in MatGL."
   ]
  },
  {
   "cell_type": "code",
   "execution_count": 20,
   "id": "11",
   "metadata": {},
   "outputs": [],
   "source": [
    "model = TensorNet(\n",
    "    element_types=element_types,\n",
    "    is_intensive=False,\n",
    "    rbf_type=\"SphericalBessel\",\n",
    "    use_smooth=True,\n",
    "    units=128,\n",
    ")"
   ]
  },
  {
   "cell_type": "code",
   "execution_count": 21,
   "id": "12",
   "metadata": {},
   "outputs": [],
   "source": [
    "# calculate scaling factor for training\n",
    "train_graphs = []\n",
    "energies = []\n",
    "forces = []\n",
    "for g, _lat, _attrs, lbs in training_set:\n",
    "    train_graphs.append(g)\n",
    "    energies.append(lbs[\"energies\"])\n",
    "    forces.append(lbs[\"forces\"])\n",
    "forces = torch.concatenate(forces)\n",
    "rms_forces = torch.sqrt(torch.mean(torch.sum(forces**2, dim=1)))\n",
    "# weight initialization\n",
    "xavier_init(model)\n",
    "# setup the optimizer and scheduler\n",
    "optimizer = torch.optim.AdamW(model.parameters(), lr=1.0e-3, weight_decay=1.0e-5, amsgrad=True)\n",
    "scheduler = CosineAnnealingLR(optimizer, T_max=1000 * 10, eta_min=1.0e-2 * 1.0e-3)"
   ]
  },
  {
   "cell_type": "markdown",
   "id": "13",
   "metadata": {},
   "source": [
    "# Setup the potential lightning module\n",
    "\n",
    "Note that the max_epochs is set to 2 here for demonstration purposes. In a real fitting, this number should be much larger (probably > 1000)."
   ]
  },
  {
   "cell_type": "code",
   "execution_count": 22,
   "id": "14",
   "metadata": {},
   "outputs": [
    {
     "name": "stderr",
     "output_type": "stream",
     "text": [
      "GPU available: True (mps), used: False\n",
      "TPU available: False, using: 0 TPU cores\n",
      "HPU available: False, using: 0 HPUs\n"
     ]
    }
   ],
   "source": [
    "# setup element_refs\n",
    "energies_offsets = np.array([isolated_energies_pbe[element] for element in DEFAULT_ELEMENTS])\n",
    "# initialize the potential lightning module\n",
    "lit_model = PotentialLightningModule(\n",
    "    model=model,\n",
    "    element_refs=energies_offsets,\n",
    "    data_std=rms_forces,\n",
    "    optimizer=optimizer,\n",
    "    scheduler=scheduler,\n",
    "    loss=\"l1_loss\",\n",
    "    stress_weight=0.1,\n",
    "    include_line_graph=False,\n",
    ")\n",
    "# setup loggers\n",
    "path = os.getcwd()\n",
    "logger = CSVLogger(save_dir=path)\n",
    "# setup checkpoints\n",
    "checkpoint_callback = ModelCheckpoint(\n",
    "    save_top_k=1,\n",
    "    monitor=\"val_Total_Loss\",\n",
    "    mode=\"min\",\n",
    "    filename=\"{epoch:04d}-best_model\",\n",
    ")\n",
    "# setup trainer\n",
    "trainer = pl.Trainer(\n",
    "    logger=logger,\n",
    "    callbacks=[EarlyStopping(monitor=\"val_Total_Loss\", mode=\"min\", patience=200), checkpoint_callback],\n",
    "    max_epochs=2,\n",
    "    accelerator=\"cpu\",  # you can use gpu instead\n",
    "    gradient_clip_val=2.0,\n",
    "    accumulate_grad_batches=4,\n",
    "    profiler=\"simple\",\n",
    ")"
   ]
  },
  {
   "cell_type": "markdown",
   "id": "15",
   "metadata": {},
   "source": [
    "# Run the fit"
   ]
  },
  {
   "cell_type": "code",
   "execution_count": 23,
   "id": "16",
   "metadata": {},
   "outputs": [
    {
     "name": "stderr",
     "output_type": "stream",
     "text": [
      "\n",
      "  | Name  | Type              | Params | Mode \n",
      "----------------------------------------------------\n",
      "0 | mae   | MeanAbsoluteError | 0      | train\n",
      "1 | rmse  | MeanSquaredError  | 0      | train\n",
      "2 | model | Potential         | 837 K  | train\n",
      "----------------------------------------------------\n",
      "837 K     Trainable params\n",
      "0         Non-trainable params\n",
      "837 K     Total params\n",
      "3.352     Total estimated model params size (MB)\n",
      "69        Modules in train mode\n",
      "0         Modules in eval mode\n"
     ]
    },
    {
     "data": {
      "application/vnd.jupyter.widget-view+json": {
       "model_id": "",
       "version_major": 2,
       "version_minor": 0
      },
      "text/plain": [
       "Sanity Checking: |                                                                                            …"
      ]
     },
     "metadata": {},
     "output_type": "display_data"
    },
    {
     "data": {
      "application/vnd.jupyter.widget-view+json": {
       "model_id": "82ff5d368b2c4af2abc01317f9d2028c",
       "version_major": 2,
       "version_minor": 0
      },
      "text/plain": [
       "Training: |                                                                                                   …"
      ]
     },
     "metadata": {},
     "output_type": "display_data"
    },
    {
     "data": {
      "application/vnd.jupyter.widget-view+json": {
       "model_id": "",
       "version_major": 2,
       "version_minor": 0
      },
      "text/plain": [
       "Validation: |                                                                                                 …"
      ]
     },
     "metadata": {},
     "output_type": "display_data"
    },
    {
     "data": {
      "application/vnd.jupyter.widget-view+json": {
       "model_id": "",
       "version_major": 2,
       "version_minor": 0
      },
      "text/plain": [
       "Validation: |                                                                                                 …"
      ]
     },
     "metadata": {},
     "output_type": "display_data"
    },
    {
     "name": "stderr",
     "output_type": "stream",
     "text": [
      "`Trainer.fit` stopped: `max_epochs=2` reached.\n",
      "FIT Profiler Report\n",
      "\n",
      "----------------------------------------------------------------------------------------------------------------------------------------------------------------------------------------------------------------------------------------------------------------------------------\n",
      "|  Action                                                                                                                                                                     \t|  Mean duration (s)\t|  Num calls      \t|  Total time (s) \t|  Percentage %   \t|\n",
      "----------------------------------------------------------------------------------------------------------------------------------------------------------------------------------------------------------------------------------------------------------------------------------\n",
      "|  Total                                                                                                                                                                      \t|  -              \t|  18171          \t|  611.61         \t|  100 %          \t|\n",
      "----------------------------------------------------------------------------------------------------------------------------------------------------------------------------------------------------------------------------------------------------------------------------------\n",
      "|  run_training_epoch                                                                                                                                                         \t|  296.55         \t|  2              \t|  593.11         \t|  96.975         \t|\n",
      "|  run_training_batch                                                                                                                                                         \t|  1.0341         \t|  544            \t|  562.55         \t|  91.979         \t|\n",
      "|  [Strategy]SingleDeviceStrategy.backward                                                                                                                                    \t|  0.61331        \t|  544            \t|  333.64         \t|  54.551         \t|\n",
      "|  [Strategy]SingleDeviceStrategy.training_step                                                                                                                               \t|  0.41931        \t|  544            \t|  228.11         \t|  37.296         \t|\n",
      "|  [LightningModule]PotentialLightningModule.optimizer_step                                                                                                                   \t|  1.0494         \t|  136            \t|  142.72         \t|  23.335         \t|\n",
      "|  [Strategy]SingleDeviceStrategy.validation_step                                                                                                                             \t|  0.61214        \t|  30             \t|  18.364         \t|  3.0026         \t|\n",
      "|  [_TrainingEpochLoop].train_dataloader_next                                                                                                                                 \t|  0.0097045      \t|  544            \t|  5.2792         \t|  0.86317        \t|\n",
      "|  [_EvaluationLoop].val_next                                                                                                                                                 \t|  0.010562       \t|  30             \t|  0.31686        \t|  0.051807       \t|\n",
      "|  [Callback]TQDMProgressBar.on_train_batch_end                                                                                                                               \t|  0.00048945     \t|  544            \t|  0.26626        \t|  0.043535       \t|\n",
      "|  [LightningModule]PotentialLightningModule.configure_gradient_clipping                                                                                                      \t|  0.00061047     \t|  136            \t|  0.083024       \t|  0.013575       \t|\n",
      "|  [Callback]ModelCheckpoint{'monitor': 'val_Total_Loss', 'mode': 'min', 'every_n_train_steps': 0, 'every_n_epochs': 1, 'train_time_interval': None}.on_train_epoch_end       \t|  0.037707       \t|  2              \t|  0.075415       \t|  0.012331       \t|\n",
      "|  [LightningModule]PotentialLightningModule.optimizer_zero_grad                                                                                                              \t|  0.00039795     \t|  136            \t|  0.054121       \t|  0.008849       \t|\n",
      "|  [Strategy]SingleDeviceStrategy.batch_to_device                                                                                                                             \t|  3.308e-05      \t|  574            \t|  0.018988       \t|  0.0031046      \t|\n",
      "|  [Callback]TQDMProgressBar.on_validation_batch_end                                                                                                                          \t|  0.00043932     \t|  30             \t|  0.01318        \t|  0.0021549      \t|\n",
      "|  [LightningModule]PotentialLightningModule.transfer_batch_to_device                                                                                                         \t|  2.1152e-05     \t|  574            \t|  0.012141       \t|  0.0019851      \t|\n",
      "|  [Callback]TQDMProgressBar.on_validation_start                                                                                                                              \t|  0.0025428      \t|  3              \t|  0.0076283      \t|  0.0012473      \t|\n",
      "|  [Callback]ModelCheckpoint{'monitor': 'val_Total_Loss', 'mode': 'min', 'every_n_train_steps': 0, 'every_n_epochs': 1, 'train_time_interval': None}.on_train_batch_end       \t|  1.1304e-05     \t|  544            \t|  0.0061496      \t|  0.0010055      \t|\n",
      "|  [Callback]TQDMProgressBar.on_train_start                                                                                                                                   \t|  0.003221       \t|  1              \t|  0.003221       \t|  0.00052664     \t|\n",
      "|  [Callback]TQDMProgressBar.on_sanity_check_start                                                                                                                            \t|  0.0032153      \t|  1              \t|  0.0032153      \t|  0.00052572     \t|\n",
      "|  [LightningModule]PotentialLightningModule.on_validation_model_zero_grad                                                                                                    \t|  0.0015928      \t|  2              \t|  0.0031856      \t|  0.00052086     \t|\n",
      "|  [Callback]EarlyStopping{'monitor': 'val_Total_Loss', 'mode': 'min'}.on_train_epoch_end                                                                                     \t|  0.0012048      \t|  2              \t|  0.0024095      \t|  0.00039397     \t|\n",
      "|  [Callback]TQDMProgressBar.on_validation_end                                                                                                                                \t|  0.00079675     \t|  3              \t|  0.0023902      \t|  0.00039081     \t|\n",
      "|  [Callback]TQDMProgressBar.on_validation_batch_start                                                                                                                        \t|  5.8543e-05     \t|  30             \t|  0.0017563      \t|  0.00028716     \t|\n",
      "|  [Callback]ModelSummary.on_fit_start                                                                                                                                        \t|  0.001716       \t|  1              \t|  0.001716       \t|  0.00028058     \t|\n",
      "|  [Callback]EarlyStopping{'monitor': 'val_Total_Loss', 'mode': 'min'}.on_after_backward                                                                                      \t|  2.3265e-06     \t|  544            \t|  0.0012656      \t|  0.00020693     \t|\n",
      "|  [Callback]TQDMProgressBar.on_train_epoch_start                                                                                                                             \t|  0.00059594     \t|  2              \t|  0.0011919      \t|  0.00019488     \t|\n",
      "|  [Callback]EarlyStopping{'monitor': 'val_Total_Loss', 'mode': 'min'}.on_train_batch_end                                                                                     \t|  1.2921e-06     \t|  544            \t|  0.00070288     \t|  0.00011492     \t|\n",
      "|  [Callback]TQDMProgressBar.on_train_epoch_end                                                                                                                               \t|  0.00032792     \t|  2              \t|  0.00065583     \t|  0.00010723     \t|\n",
      "|  [Callback]ModelSummary.on_train_batch_end                                                                                                                                  \t|  1.1395e-06     \t|  544            \t|  0.00061988     \t|  0.00010135     \t|\n",
      "|  [LightningModule]PotentialLightningModule.on_before_batch_transfer                                                                                                         \t|  8.734e-07      \t|  574            \t|  0.00050133     \t|  8.1969e-05     \t|\n",
      "|  [Callback]EarlyStopping{'monitor': 'val_Total_Loss', 'mode': 'min'}.on_before_backward                                                                                     \t|  9.0663e-07     \t|  544            \t|  0.00049321     \t|  8.0641e-05     \t|\n",
      "|  [LightningModule]PotentialLightningModule.on_validation_model_eval                                                                                                         \t|  0.00013688     \t|  3              \t|  0.00041063     \t|  6.7139e-05     \t|\n",
      "|  [Callback]EarlyStopping{'monitor': 'val_Total_Loss', 'mode': 'min'}.on_train_batch_start                                                                                   \t|  7.4417e-07     \t|  544            \t|  0.00040483     \t|  6.6191e-05     \t|\n",
      "|  [LightningModule]PotentialLightningModule.on_after_backward                                                                                                                \t|  6.8329e-07     \t|  544            \t|  0.00037171     \t|  6.0776e-05     \t|\n",
      "|  [Callback]TQDMProgressBar.on_after_backward                                                                                                                                \t|  6.4567e-07     \t|  544            \t|  0.00035124     \t|  5.7429e-05     \t|\n",
      "|  [LightningModule]PotentialLightningModule.on_train_batch_end                                                                                                               \t|  5.6762e-07     \t|  544            \t|  0.00030878     \t|  5.0487e-05     \t|\n",
      "|  [LightningModule]PotentialLightningModule.on_train_batch_start                                                                                                             \t|  5.3422e-07     \t|  544            \t|  0.00029061     \t|  4.7516e-05     \t|\n",
      "|  [Callback]TQDMProgressBar.on_train_batch_start                                                                                                                             \t|  5.3293e-07     \t|  544            \t|  0.00028991     \t|  4.7402e-05     \t|\n",
      "|  [Callback]TQDMProgressBar.on_train_end                                                                                                                                     \t|  0.00028108     \t|  1              \t|  0.00028108     \t|  4.5958e-05     \t|\n",
      "|  [Strategy]SingleDeviceStrategy.on_train_batch_start                                                                                                                        \t|  5.0934e-07     \t|  544            \t|  0.00027708     \t|  4.5304e-05     \t|\n",
      "|  [LightningModule]PotentialLightningModule.on_before_backward                                                                                                               \t|  5.0927e-07     \t|  544            \t|  0.00027704     \t|  4.5297e-05     \t|\n",
      "|  [Callback]ModelSummary.on_after_backward                                                                                                                                   \t|  5.0422e-07     \t|  544            \t|  0.0002743      \t|  4.4849e-05     \t|\n",
      "|  [Callback]ModelCheckpoint{'monitor': 'val_Total_Loss', 'mode': 'min', 'every_n_train_steps': 0, 'every_n_epochs': 1, 'train_time_interval': None}.on_after_backward        \t|  4.7799e-07     \t|  544            \t|  0.00026003     \t|  4.2515e-05     \t|\n",
      "|  [Callback]ModelSummary.on_train_batch_start                                                                                                                                \t|  4.6718e-07     \t|  544            \t|  0.00025414     \t|  4.1553e-05     \t|\n",
      "|  [Callback]TQDMProgressBar.on_before_backward                                                                                                                               \t|  4.4253e-07     \t|  544            \t|  0.00024074     \t|  3.9362e-05     \t|\n",
      "|  [Callback]ModelCheckpoint{'monitor': 'val_Total_Loss', 'mode': 'min', 'every_n_train_steps': 0, 'every_n_epochs': 1, 'train_time_interval': None}.on_train_batch_start     \t|  4.355e-07      \t|  544            \t|  0.00023691     \t|  3.8736e-05     \t|\n",
      "|  [Callback]ModelCheckpoint{'monitor': 'val_Total_Loss', 'mode': 'min', 'every_n_train_steps': 0, 'every_n_epochs': 1, 'train_time_interval': None}.on_before_backward       \t|  4.2531e-07     \t|  544            \t|  0.00023137     \t|  3.7829e-05     \t|\n",
      "|  [Callback]ModelSummary.on_before_backward                                                                                                                                  \t|  4.1274e-07     \t|  544            \t|  0.00022453     \t|  3.6711e-05     \t|\n",
      "|  [LightningModule]PotentialLightningModule.on_after_batch_transfer                                                                                                          \t|  3.7404e-07     \t|  574            \t|  0.0002147      \t|  3.5104e-05     \t|\n",
      "|  [LightningModule]PotentialLightningModule.on_train_epoch_end                                                                                                               \t|  9.475e-05      \t|  2              \t|  0.0001895      \t|  3.0984e-05     \t|\n",
      "|  [LightningModule]PotentialLightningModule.lr_scheduler_step                                                                                                                \t|  8.5063e-05     \t|  2              \t|  0.00017013     \t|  2.7816e-05     \t|\n",
      "|  [Callback]ModelCheckpoint{'monitor': 'val_Total_Loss', 'mode': 'min', 'every_n_train_steps': 0, 'every_n_epochs': 1, 'train_time_interval': None}.on_validation_end        \t|  4.6291e-05     \t|  3              \t|  0.00013887     \t|  2.2706e-05     \t|\n",
      "|  [Callback]EarlyStopping{'monitor': 'val_Total_Loss', 'mode': 'min'}.on_before_zero_grad                                                                                    \t|  9.5588e-07     \t|  136            \t|  0.00013        \t|  2.1255e-05     \t|\n",
      "|  [Callback]EarlyStopping{'monitor': 'val_Total_Loss', 'mode': 'min'}.on_before_optimizer_step                                                                               \t|  7.6411e-07     \t|  136            \t|  0.00010392     \t|  1.6991e-05     \t|\n",
      "|  [LightningModule]PotentialLightningModule.on_before_zero_grad                                                                                                              \t|  6.4674e-07     \t|  136            \t|  8.7957e-05     \t|  1.4381e-05     \t|\n",
      "|  [Callback]TQDMProgressBar.on_before_zero_grad                                                                                                                              \t|  5.224e-07      \t|  136            \t|  7.1047e-05     \t|  1.1616e-05     \t|\n",
      "|  [Callback]ModelCheckpoint{'monitor': 'val_Total_Loss', 'mode': 'min', 'every_n_train_steps': 0, 'every_n_epochs': 1, 'train_time_interval': None}.on_before_zero_grad      \t|  5.0919e-07     \t|  136            \t|  6.925e-05      \t|  1.1323e-05     \t|\n",
      "|  [Callback]ModelSummary.on_before_zero_grad                                                                                                                                 \t|  4.5806e-07     \t|  136            \t|  6.2296e-05     \t|  1.0186e-05     \t|\n",
      "|  [Callback]ModelSummary.on_before_optimizer_step                                                                                                                            \t|  4.2549e-07     \t|  136            \t|  5.7867e-05     \t|  9.4614e-06     \t|\n",
      "|  [Callback]TQDMProgressBar.on_before_optimizer_step                                                                                                                         \t|  4.0771e-07     \t|  136            \t|  5.5449e-05     \t|  9.0661e-06     \t|\n",
      "|  [Callback]ModelCheckpoint{'monitor': 'val_Total_Loss', 'mode': 'min', 'every_n_train_steps': 0, 'every_n_epochs': 1, 'train_time_interval': None}.on_before_optimizer_step \t|  3.9732e-07     \t|  136            \t|  5.4035e-05     \t|  8.835e-06      \t|\n",
      "|  [LightningModule]PotentialLightningModule.on_before_optimizer_step                                                                                                         \t|  3.4404e-07     \t|  136            \t|  4.679e-05      \t|  7.6503e-06     \t|\n",
      "|  [Callback]ModelCheckpoint{'monitor': 'val_Total_Loss', 'mode': 'min', 'every_n_train_steps': 0, 'every_n_epochs': 1, 'train_time_interval': None}.setup                    \t|  3.7875e-05     \t|  1              \t|  3.7875e-05     \t|  6.1927e-06     \t|\n",
      "|  [Callback]EarlyStopping{'monitor': 'val_Total_Loss', 'mode': 'min'}.on_validation_batch_end                                                                                \t|  1.2403e-06     \t|  30             \t|  3.7208e-05     \t|  6.0837e-06     \t|\n",
      "|  [Callback]ModelSummary.on_validation_batch_end                                                                                                                             \t|  9.2915e-07     \t|  30             \t|  2.7874e-05     \t|  4.5576e-06     \t|\n",
      "|  [Callback]EarlyStopping{'monitor': 'val_Total_Loss', 'mode': 'min'}.on_validation_batch_start                                                                              \t|  7.8187e-07     \t|  30             \t|  2.3456e-05     \t|  3.8352e-06     \t|\n",
      "|  [LightningModule]PotentialLightningModule.on_validation_batch_end                                                                                                          \t|  7.4999e-07     \t|  30             \t|  2.25e-05       \t|  3.6788e-06     \t|\n",
      "|  [Callback]ModelSummary.on_validation_batch_start                                                                                                                           \t|  5.472e-07      \t|  30             \t|  1.6416e-05     \t|  2.6841e-06     \t|\n",
      "|  [LightningModule]PotentialLightningModule.on_validation_batch_start                                                                                                        \t|  5.3756e-07     \t|  30             \t|  1.6127e-05     \t|  2.6368e-06     \t|\n",
      "|  [Callback]ModelCheckpoint{'monitor': 'val_Total_Loss', 'mode': 'min', 'every_n_train_steps': 0, 'every_n_epochs': 1, 'train_time_interval': None}.on_validation_batch_end  \t|  5.2648e-07     \t|  30             \t|  1.5795e-05     \t|  2.5825e-06     \t|\n",
      "|  [Callback]EarlyStopping{'monitor': 'val_Total_Loss', 'mode': 'min'}.on_validation_end                                                                                      \t|  4.1527e-06     \t|  3              \t|  1.2458e-05     \t|  2.0369e-06     \t|\n",
      "|  [Callback]ModelCheckpoint{'monitor': 'val_Total_Loss', 'mode': 'min', 'every_n_train_steps': 0, 'every_n_epochs': 1, 'train_time_interval': None}.on_validation_batch_start\t|  4.1244e-07     \t|  30             \t|  1.2373e-05     \t|  2.0231e-06     \t|\n",
      "|  [Callback]TQDMProgressBar.on_sanity_check_end                                                                                                                              \t|  1.1791e-05     \t|  1              \t|  1.1791e-05     \t|  1.9279e-06     \t|\n",
      "|  [LightningModule]PotentialLightningModule.on_fit_start                                                                                                                     \t|  6.9581e-06     \t|  1              \t|  6.9581e-06     \t|  1.1377e-06     \t|\n",
      "|  [Callback]ModelSummary.on_validation_end                                                                                                                                   \t|  1.5833e-06     \t|  3              \t|  4.75e-06       \t|  7.7664e-07     \t|\n",
      "|  [Callback]ModelSummary.on_validation_start                                                                                                                                 \t|  1.1527e-06     \t|  3              \t|  3.458e-06      \t|  5.654e-07      \t|\n",
      "|  [Callback]EarlyStopping{'monitor': 'val_Total_Loss', 'mode': 'min'}.on_validation_epoch_end                                                                                \t|  1.125e-06      \t|  3              \t|  3.3751e-06     \t|  5.5184e-07     \t|\n",
      "|  [Callback]EarlyStopping{'monitor': 'val_Total_Loss', 'mode': 'min'}.on_train_start                                                                                         \t|  3.1251e-06     \t|  1              \t|  3.1251e-06     \t|  5.1096e-07     \t|\n",
      "|  [Callback]EarlyStopping{'monitor': 'val_Total_Loss', 'mode': 'min'}.setup                                                                                                  \t|  2.9171e-06     \t|  1              \t|  2.9171e-06     \t|  4.7696e-07     \t|\n",
      "|  [Callback]ModelCheckpoint{'monitor': 'val_Total_Loss', 'mode': 'min', 'every_n_train_steps': 0, 'every_n_epochs': 1, 'train_time_interval': None}.on_fit_start             \t|  2.875e-06      \t|  1              \t|  2.875e-06      \t|  4.7007e-07     \t|\n",
      "|  [Callback]ModelSummary.on_train_epoch_start                                                                                                                                \t|  1.2295e-06     \t|  2              \t|  2.4589e-06     \t|  4.0204e-07     \t|\n",
      "|  [Callback]EarlyStopping{'monitor': 'val_Total_Loss', 'mode': 'min'}.on_train_end                                                                                           \t|  2.3751e-06     \t|  1              \t|  2.3751e-06     \t|  3.8834e-07     \t|\n",
      "|  [Callback]TQDMProgressBar.setup                                                                                                                                            \t|  2.292e-06      \t|  1              \t|  2.292e-06      \t|  3.7475e-07     \t|\n",
      "|  [Callback]EarlyStopping{'monitor': 'val_Total_Loss', 'mode': 'min'}.on_validation_start                                                                                    \t|  7.6399e-07     \t|  3              \t|  2.292e-06      \t|  3.7475e-07     \t|\n",
      "|  [Callback]EarlyStopping{'monitor': 'val_Total_Loss', 'mode': 'min'}.on_save_checkpoint                                                                                     \t|  1.1455e-06     \t|  2              \t|  2.2911e-06     \t|  3.746e-07      \t|\n",
      "|  [Callback]ModelSummary.on_train_epoch_end                                                                                                                                  \t|  1.104e-06      \t|  2              \t|  2.2079e-06     \t|  3.6101e-07     \t|\n",
      "|  [Callback]EarlyStopping{'monitor': 'val_Total_Loss', 'mode': 'min'}.on_train_epoch_start                                                                                   \t|  1.0419e-06     \t|  2              \t|  2.0838e-06     \t|  3.4071e-07     \t|\n",
      "|  [Callback]ModelCheckpoint{'monitor': 'val_Total_Loss', 'mode': 'min', 'every_n_train_steps': 0, 'every_n_epochs': 1, 'train_time_interval': None}.on_validation_start      \t|  6.6628e-07     \t|  3              \t|  1.9989e-06     \t|  3.2682e-07     \t|\n",
      "|  [Callback]ModelSummary.on_train_start                                                                                                                                      \t|  1.959e-06      \t|  1              \t|  1.959e-06      \t|  3.2031e-07     \t|\n",
      "|  [Callback]EarlyStopping{'monitor': 'val_Total_Loss', 'mode': 'min'}.on_fit_start                                                                                           \t|  1.9171e-06     \t|  1              \t|  1.9171e-06     \t|  3.1346e-07     \t|\n",
      "|  [Callback]ModelSummary.on_sanity_check_start                                                                                                                               \t|  1.834e-06      \t|  1              \t|  1.834e-06      \t|  2.9987e-07     \t|\n",
      "|  [Callback]EarlyStopping{'monitor': 'val_Total_Loss', 'mode': 'min'}.on_sanity_check_start                                                                                  \t|  1.8331e-06     \t|  1              \t|  1.8331e-06     \t|  2.9971e-07     \t|\n",
      "|  [LightningModule]PotentialLightningModule.on_validation_start                                                                                                              \t|  5.834e-07      \t|  3              \t|  1.7502e-06     \t|  2.8616e-07     \t|\n",
      "|  [LightningModule]PotentialLightningModule.on_validation_end                                                                                                                \t|  5.8332e-07     \t|  3              \t|  1.75e-06       \t|  2.8612e-07     \t|\n",
      "|  [Callback]EarlyStopping{'monitor': 'val_Total_Loss', 'mode': 'min'}.on_fit_end                                                                                             \t|  1.6249e-06     \t|  1              \t|  1.6249e-06     \t|  2.6568e-07     \t|\n",
      "|  [Callback]ModelCheckpoint{'monitor': 'val_Total_Loss', 'mode': 'min', 'every_n_train_steps': 0, 'every_n_epochs': 1, 'train_time_interval': None}.on_train_start           \t|  1.5839e-06     \t|  1              \t|  1.5839e-06     \t|  2.5898e-07     \t|\n",
      "|  [Callback]EarlyStopping{'monitor': 'val_Total_Loss', 'mode': 'min'}.on_validation_epoch_start                                                                              \t|  5.2775e-07     \t|  3              \t|  1.5832e-06     \t|  2.5887e-07     \t|\n",
      "|  [Strategy]SingleDeviceStrategy.on_validation_end                                                                                                                           \t|  5.2767e-07     \t|  3              \t|  1.583e-06      \t|  2.5883e-07     \t|\n",
      "|  [LightningModule]PotentialLightningModule.configure_optimizers                                                                                                             \t|  1.542e-06      \t|  1              \t|  1.542e-06      \t|  2.5213e-07     \t|\n",
      "|  [LightningModule]PotentialLightningModule.on_validation_epoch_end                                                                                                          \t|  5.1401e-07     \t|  3              \t|  1.542e-06      \t|  2.5213e-07     \t|\n",
      "|  [LightningModule]PotentialLightningModule.on_train_epoch_start                                                                                                             \t|  7.4995e-07     \t|  2              \t|  1.4999e-06     \t|  2.4524e-07     \t|\n",
      "|  [Callback]ModelSummary.on_save_checkpoint                                                                                                                                  \t|  6.8755e-07     \t|  2              \t|  1.3751e-06     \t|  2.2483e-07     \t|\n",
      "|  [Callback]TQDMProgressBar.on_validation_epoch_end                                                                                                                          \t|  4.3105e-07     \t|  3              \t|  1.2931e-06     \t|  2.1143e-07     \t|\n",
      "|  [Callback]ModelCheckpoint{'monitor': 'val_Total_Loss', 'mode': 'min', 'every_n_train_steps': 0, 'every_n_epochs': 1, 'train_time_interval': None}.on_validation_epoch_end  \t|  4.3066e-07     \t|  3              \t|  1.292e-06      \t|  2.1124e-07     \t|\n",
      "|  [Callback]ModelSummary.on_validation_epoch_end                                                                                                                             \t|  4.1677e-07     \t|  3              \t|  1.2503e-06     \t|  2.0443e-07     \t|\n",
      "|  [Callback]ModelSummary.on_validation_epoch_start                                                                                                                           \t|  4.0272e-07     \t|  3              \t|  1.2082e-06     \t|  1.9754e-07     \t|\n",
      "|  [Callback]EarlyStopping{'monitor': 'val_Total_Loss', 'mode': 'min'}.on_sanity_check_end                                                                                    \t|  1.2082e-06     \t|  1              \t|  1.2082e-06     \t|  1.9754e-07     \t|\n",
      "|  [Callback]ModelCheckpoint{'monitor': 'val_Total_Loss', 'mode': 'min', 'every_n_train_steps': 0, 'every_n_epochs': 1, 'train_time_interval': None}.on_validation_epoch_start\t|  3.8906e-07     \t|  3              \t|  1.1672e-06     \t|  1.9084e-07     \t|\n",
      "|  [Callback]TQDMProgressBar.on_validation_epoch_start                                                                                                                        \t|  3.8898e-07     \t|  3              \t|  1.1669e-06     \t|  1.908e-07      \t|\n",
      "|  [Callback]ModelCheckpoint{'monitor': 'val_Total_Loss', 'mode': 'min', 'every_n_train_steps': 0, 'every_n_epochs': 1, 'train_time_interval': None}.on_save_checkpoint       \t|  5.8347e-07     \t|  2              \t|  1.1669e-06     \t|  1.908e-07      \t|\n",
      "|  [LightningModule]PotentialLightningModule.configure_callbacks                                                                                                              \t|  1.1248e-06     \t|  1              \t|  1.1248e-06     \t|  1.8391e-07     \t|\n",
      "|  [LightningModule]PotentialLightningModule.on_validation_epoch_start                                                                                                        \t|  3.6097e-07     \t|  3              \t|  1.0829e-06     \t|  1.7706e-07     \t|\n",
      "|  [Strategy]SingleDeviceStrategy.on_validation_start                                                                                                                         \t|  3.4731e-07     \t|  3              \t|  1.0419e-06     \t|  1.7036e-07     \t|\n",
      "|  [Callback]TQDMProgressBar.on_save_checkpoint                                                                                                                               \t|  5.2061e-07     \t|  2              \t|  1.0412e-06     \t|  1.7024e-07     \t|\n",
      "|  [Callback]EarlyStopping{'monitor': 'val_Total_Loss', 'mode': 'min'}.teardown                                                                                               \t|  1e-06          \t|  1              \t|  1e-06          \t|  1.635e-07      \t|\n",
      "|  [Callback]TQDMProgressBar.on_fit_start                                                                                                                                     \t|  9.581e-07      \t|  1              \t|  9.581e-07      \t|  1.5665e-07     \t|\n",
      "|  [LightningModule]PotentialLightningModule.setup                                                                                                                            \t|  9.1689e-07     \t|  1              \t|  9.1689e-07     \t|  1.4991e-07     \t|\n",
      "|  [Callback]ModelCheckpoint{'monitor': 'val_Total_Loss', 'mode': 'min', 'every_n_train_steps': 0, 'every_n_epochs': 1, 'train_time_interval': None}.on_train_epoch_start     \t|  4.3761e-07     \t|  2              \t|  8.7521e-07     \t|  1.431e-07      \t|\n",
      "|  [Callback]ModelSummary.setup                                                                                                                                               \t|  8.7498e-07     \t|  1              \t|  8.7498e-07     \t|  1.4306e-07     \t|\n",
      "|  [Callback]ModelSummary.on_train_end                                                                                                                                        \t|  8.7498e-07     \t|  1              \t|  8.7498e-07     \t|  1.4306e-07     \t|\n",
      "|  [LightningModule]PotentialLightningModule.on_save_checkpoint                                                                                                               \t|  3.7544e-07     \t|  2              \t|  7.5088e-07     \t|  1.2277e-07     \t|\n",
      "|  [Strategy]SingleDeviceStrategy.on_train_start                                                                                                                              \t|  7.4995e-07     \t|  1              \t|  7.4995e-07     \t|  1.2262e-07     \t|\n",
      "|  [Callback]TQDMProgressBar.teardown                                                                                                                                         \t|  6.6613e-07     \t|  1              \t|  6.6613e-07     \t|  1.0891e-07     \t|\n",
      "|  [Callback]ModelSummary.on_sanity_check_end                                                                                                                                 \t|  6.2515e-07     \t|  1              \t|  6.2515e-07     \t|  1.0221e-07     \t|\n",
      "|  [LightningModule]PotentialLightningModule.teardown                                                                                                                         \t|  6.2515e-07     \t|  1              \t|  6.2515e-07     \t|  1.0221e-07     \t|\n",
      "|  [Callback]ModelCheckpoint{'monitor': 'val_Total_Loss', 'mode': 'min', 'every_n_train_steps': 0, 'every_n_epochs': 1, 'train_time_interval': None}.on_sanity_check_start    \t|  5.8301e-07     \t|  1              \t|  5.8301e-07     \t|  9.5324e-08     \t|\n",
      "|  [LightningModule]PotentialLightningModule.on_train_end                                                                                                                     \t|  5.8301e-07     \t|  1              \t|  5.8301e-07     \t|  9.5324e-08     \t|\n",
      "|  [LightningModule]PotentialLightningModule.on_fit_end                                                                                                                       \t|  5.8301e-07     \t|  1              \t|  5.8301e-07     \t|  9.5324e-08     \t|\n",
      "|  [Callback]ModelCheckpoint{'monitor': 'val_Total_Loss', 'mode': 'min', 'every_n_train_steps': 0, 'every_n_epochs': 1, 'train_time_interval': None}.on_train_end             \t|  5.4203e-07     \t|  1              \t|  5.4203e-07     \t|  8.8624e-08     \t|\n",
      "|  [Callback]ModelCheckpoint{'monitor': 'val_Total_Loss', 'mode': 'min', 'every_n_train_steps': 0, 'every_n_epochs': 1, 'train_time_interval': None}.on_fit_end               \t|  5.4203e-07     \t|  1              \t|  5.4203e-07     \t|  8.8624e-08     \t|\n",
      "|  [Callback]TQDMProgressBar.on_fit_end                                                                                                                                       \t|  5.0012e-07     \t|  1              \t|  5.0012e-07     \t|  8.1771e-08     \t|\n",
      "|  [Callback]ModelSummary.teardown                                                                                                                                            \t|  5.0012e-07     \t|  1              \t|  5.0012e-07     \t|  8.1771e-08     \t|\n",
      "|  [LightningModule]PotentialLightningModule.on_train_start                                                                                                                   \t|  4.9989e-07     \t|  1              \t|  4.9989e-07     \t|  8.1733e-08     \t|\n",
      "|  [Strategy]SingleDeviceStrategy.on_train_end                                                                                                                                \t|  4.5891e-07     \t|  1              \t|  4.5891e-07     \t|  7.5033e-08     \t|\n",
      "|  [Callback]ModelCheckpoint{'monitor': 'val_Total_Loss', 'mode': 'min', 'every_n_train_steps': 0, 'every_n_epochs': 1, 'train_time_interval': None}.on_sanity_check_end      \t|  4.17e-07       \t|  1              \t|  4.17e-07       \t|  6.8181e-08     \t|\n",
      "|  [Callback]ModelCheckpoint{'monitor': 'val_Total_Loss', 'mode': 'min', 'every_n_train_steps': 0, 'every_n_epochs': 1, 'train_time_interval': None}.teardown                 \t|  4.17e-07       \t|  1              \t|  4.17e-07       \t|  6.8181e-08     \t|\n",
      "|  [Callback]ModelSummary.on_fit_end                                                                                                                                          \t|  3.7509e-07     \t|  1              \t|  3.7509e-07     \t|  6.1329e-08     \t|\n",
      "----------------------------------------------------------------------------------------------------------------------------------------------------------------------------------------------------------------------------------------------------------------------------------\n",
      "\n"
     ]
    }
   ],
   "source": [
    "trainer.fit(model=lit_model, train_dataloaders=train_loader, val_dataloaders=val_loader)"
   ]
  },
  {
   "cell_type": "code",
   "execution_count": null,
   "id": "17",
   "metadata": {},
   "outputs": [],
   "source": [
    "# save trained model\n",
    "model_export_path = \"./trained_model/\"\n",
    "lit_model.model.save(model_export_path)"
   ]
  },
  {
   "cell_type": "markdown",
   "id": "18",
   "metadata": {},
   "source": [
    "# Cleanup"
   ]
  },
  {
   "cell_type": "code",
   "execution_count": null,
   "id": "19",
   "metadata": {},
   "outputs": [],
   "source": [
    "# This code just performs cleanup for this notebook.\n",
    "shutil.rmtree(\"MGLDataset\")\n",
    "shutil.rmtree(\"trained_model\")"
   ]
  }
 ],
 "metadata": {
  "kernelspec": {
   "display_name": "Python 3 (ipykernel)",
   "language": "python",
   "name": "python3"
  },
  "language_info": {
   "codemirror_mode": {
    "name": "ipython",
    "version": 3
   },
   "file_extension": ".py",
   "mimetype": "text/x-python",
   "name": "python",
   "nbconvert_exporter": "python",
   "pygments_lexer": "ipython3",
   "version": "3.11.10"
  }
 },
 "nbformat": 4,
 "nbformat_minor": 5
}
