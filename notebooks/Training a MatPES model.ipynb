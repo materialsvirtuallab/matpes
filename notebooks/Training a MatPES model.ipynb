{
 "cells": [
  {
   "cell_type": "markdown",
   "id": "0",
   "metadata": {},
   "source": [
    "# Introduction \n",
    "\n",
    "This notebook demonstrates the fitting of a TensorNet UMLIP using the MatPES v2025.1 PBE dataset. Fitting of other architectures in MatGL with either the PBE or r2SCAN datasets is similar."
   ]
  },
  {
   "cell_type": "code",
   "execution_count": null,
   "id": "1",
   "metadata": {},
   "outputs": [],
   "source": [
    "from __future__ import annotations\n",
    "\n",
    "import json\n",
    "import os\n",
    "import shutil\n",
    "from functools import partial\n",
    "\n",
    "import lightning as pl\n",
    "import numpy as np\n",
    "import torch\n",
    "from ase.stress import voigt_6_to_full_3x3_stress\n",
    "from dgl.data.utils import split_dataset\n",
    "from lightning.pytorch.callbacks import ModelCheckpoint\n",
    "from lightning.pytorch.callbacks.early_stopping import EarlyStopping\n",
    "from lightning.pytorch.loggers import CSVLogger\n",
    "from matgl.config import DEFAULT_ELEMENTS\n",
    "from matgl.ext.pymatgen import Structure2Graph\n",
    "from matgl.graph.data import MGLDataLoader, MGLDataset, collate_fn_pes\n",
    "from matgl.models import TensorNet\n",
    "from matgl.utils.training import PotentialLightningModule, xavier_init\n",
    "from monty.io import zopen\n",
    "from pymatgen.core import Structure\n",
    "from torch.optim.lr_scheduler import CosineAnnealingLR\n",
    "from tqdm import tqdm\n",
    "\n",
    "from matpes.data import get_data"
   ]
  },
  {
   "cell_type": "code",
   "execution_count": null,
   "id": "2",
   "metadata": {},
   "outputs": [
    {
     "name": "stdout",
     "output_type": "stream",
     "text": [
      "Downloading from https://s3.us-east-1.amazonaws.com/materialsproject-contribs/MatPES_2025_1/MatPES-PBE-2025.1.json.gz...\n"
     ]
    },
    {
     "name": "stderr",
     "output_type": "stream",
     "text": [
      "100%|█████████████████████████████████████████████████████████████████████████████████████████████████████████████████████████████████████████████████████████████████████████████████████████████████████████████████████| 431M/431M [01:39<00:00, 4.33MB/s]\n"
     ]
    },
    {
     "name": "stdout",
     "output_type": "stream",
     "text": [
      "Downloading from https://s3.us-east-1.amazonaws.com/materialsproject-contribs/MatPES_2025_1/MatPES-PBE-atoms.json.gz...\n"
     ]
    },
    {
     "name": "stderr",
     "output_type": "stream",
     "text": [
      "100%|████████████████████████████████████████████████████████████████████████████████████████████████████████████████████████████████████████████████████████████████████████████████████████████████████████████████████| 8.39k/8.39k [00:00<00:00, 871kB/s]\n"
     ]
    }
   ],
   "source": [
    "data = get_data(\"PBE\", download_atoms=True)"
   ]
  },
  {
   "cell_type": "markdown",
   "id": "3",
   "metadata": {},
   "source": [
    "We need to load the atomic energies as the zero reference."
   ]
  },
  {
   "cell_type": "code",
   "execution_count": null,
   "id": "4",
   "metadata": {},
   "outputs": [
    {
     "data": {
      "text/plain": [
       "{'Zn': -0.01098351,\n",
       " 'Y': -2.25679622,\n",
       " 'Tl': -0.17939998,\n",
       " 'Ti': -2.40532262,\n",
       " 'Sr': -0.02823145,\n",
       " 'Ta': -3.5659314,\n",
       " 'Te': -0.6573123,\n",
       " 'V': -3.61232779,\n",
       " 'W': -4.57101127,\n",
       " 'Si': -0.82583191,\n",
       " 'Sn': -0.67963499,\n",
       " 'Se': -0.78345919,\n",
       " 'Sb': -1.4302063,\n",
       " 'Sc': -2.12966897,\n",
       " 'Zr': -2.23742918,\n",
       " 'Rh': -1.44016062,\n",
       " 'Re': -4.63436797,\n",
       " 'O2': -1.54690765,\n",
       " 'Tc': -3.40289704,\n",
       " 'Os': -2.88280809,\n",
       " 'Rb': -0.16194042,\n",
       " 'P': -1.88719667,\n",
       " 'S': -0.89091719,\n",
       " 'Th': -1.04419147,\n",
       " 'Ni': -0.28412403,\n",
       " 'Pb': -0.63069886,\n",
       " 'Pd': -1.47521138,\n",
       " 'Pt': -0.50244445,\n",
       " 'Ru': -1.68884293,\n",
       " 'Pa': -2.03239022,\n",
       " 'Pu': -10.39244586,\n",
       " 'Ne': -0.01216023,\n",
       " 'Na': -0.22858276,\n",
       " 'Nb': -2.53481909,\n",
       " 'N2': -3.12555634,\n",
       " 'Mn': -5.14592659,\n",
       " 'Mg': -0.00994627,\n",
       " 'U': -4.6443113,\n",
       " 'Li': -0.29734917,\n",
       " 'Np': -7.30273499,\n",
       " 'Lu': -0.25255978,\n",
       " 'Mo': -4.60213279,\n",
       " 'Kr': -0.02265396,\n",
       " 'In': -0.19672488,\n",
       " 'I': -0.18858477,\n",
       " 'He': -0.00045595,\n",
       " 'Hf': -3.49292389,\n",
       " 'Hg': -0.0105212,\n",
       " 'K': -0.17827125,\n",
       " 'Ir': -1.42793567,\n",
       " 'Ge': -0.77924665,\n",
       " 'F2': -0.43794547,\n",
       " 'Ga': -0.19854295,\n",
       " 'Fe': -3.30583367,\n",
       " 'Cs': -0.13452777,\n",
       " 'Cu': -0.23745594,\n",
       " 'Cl2': -0.25828681,\n",
       " 'Br': -0.22687512,\n",
       " 'Cd': -0.01374787,\n",
       " 'Be': -0.04262353,\n",
       " 'C': -1.26281801,\n",
       " 'H2': -1.11723232,\n",
       " 'Ca': -0.02596217,\n",
       " 'Al': -0.21672837,\n",
       " 'Bi': -1.32462383,\n",
       " 'As': -1.70136472,\n",
       " 'B': -0.2911712,\n",
       " 'Au': -0.18479218,\n",
       " 'Ar': -0.0235315,\n",
       " 'Ag': -0.19840574,\n",
       " 'Ac': -0.24210133,\n",
       " 'Co': -1.66614587,\n",
       " 'Cr': -5.44620624,\n",
       " 'Eu': -9.48606277,\n",
       " 'Ce': -1.43642821,\n",
       " 'Gd': -8.11540027,\n",
       " 'La': -0.62794477,\n",
       " 'Xe': -0.01020284,\n",
       " 'Yb': -1.84040717,\n",
       " 'Sm': -6.9970228,\n",
       " 'Pm': -5.08859903,\n",
       " 'Ho': -4.30111439,\n",
       " 'Ba': -1.35978407,\n",
       " 'Nd': -3.6389801,\n",
       " 'Dy': -5.51640166,\n",
       " 'Er': -3.03880565,\n",
       " 'Tm': -2.10513872,\n",
       " 'Tb': -6.45686224,\n",
       " 'Pr': -2.12706895}"
      ]
     },
     "execution_count": null,
     "metadata": {},
     "output_type": "execute_result"
    }
   ],
   "source": [
    "with zopen(\"MatPES-PBE-atoms.json.gz\", \"rt\") as f:\n",
    "    isolated_energies_pbe = json.load(f)\n",
    "isolated_energies_pbe = {d[\"formula_pretty\"]: d[\"energy\"] for d in isolated_energies_pbe}\n",
    "isolated_energies_pbe"
   ]
  },
  {
   "cell_type": "code",
   "execution_count": null,
   "id": "5",
   "metadata": {},
   "outputs": [
    {
     "name": "stderr",
     "output_type": "stream",
     "text": [
      "100%|██████████████████████████████████████████████████████████████████████████████████████████████████████████████████████████████████████████████████████████████████████████████████████████████████████████████| 434712/434712 [00:57<00:00, 7595.45it/s]\n"
     ]
    }
   ],
   "source": [
    "# initialize the lists for storing structures with energies, forces, and optional stresses\n",
    "structures = []\n",
    "energies = []\n",
    "forces = []\n",
    "stresses = []\n",
    "for d in tqdm(data):\n",
    "    structures.append(Structure.from_dict(d[\"structure\"]))\n",
    "    energies.append(d[\"energy\"])\n",
    "    forces.append(d[\"forces\"])\n",
    "    stresses.append(voigt_6_to_full_3x3_stress(np.array(d[\"stress\"])) * -0.1)\n",
    "stresses = [stress.tolist() for stress in stresses]"
   ]
  },
  {
   "cell_type": "markdown",
   "id": "6",
   "metadata": {},
   "source": [
    "# Loading the data into the the MGLDataSet"
   ]
  },
  {
   "cell_type": "code",
   "execution_count": null,
   "id": "7",
   "metadata": {},
   "outputs": [],
   "source": [
    "# define the graph converter for periodic systems\n",
    "element_types = DEFAULT_ELEMENTS\n",
    "cry_graph = Structure2Graph(element_types=element_types, cutoff=5.0)"
   ]
  },
  {
   "cell_type": "code",
   "execution_count": null,
   "id": "8",
   "metadata": {},
   "outputs": [
    {
     "name": "stderr",
     "output_type": "stream",
     "text": [
      "100%|██████████████████████████████████████████████████████████████████████████████████████████████████████████████████████████████████████████████████████████████████████████████████████████████████████████████| 434712/434712 [03:08<00:00, 2301.06it/s]\n"
     ]
    }
   ],
   "source": [
    "# save all PES properties into a dictionary\n",
    "labels = {}\n",
    "labels[\"energies\"] = energies\n",
    "labels[\"forces\"] = forces\n",
    "labels[\"stresses\"] = stresses\n",
    "\n",
    "dataset = MGLDataset(structures=structures, converter=cry_graph, labels=labels)"
   ]
  },
  {
   "cell_type": "code",
   "execution_count": null,
   "id": "9",
   "metadata": {},
   "outputs": [],
   "source": [
    "# splitting the dataset into training, validation and test\n",
    "training_set, validation_set, test_set = split_dataset(dataset, [0.9, 0.05, 0.05], random_state=42, shuffle=True)\n",
    "# define the proper collate function for MGLDataLoader\n",
    "collate_fn = partial(collate_fn_pes, include_line_graph=False, include_stress=True)\n",
    "# initialize dataloader for training and validation\n",
    "train_loader, val_loader = MGLDataLoader(\n",
    "    train_data=training_set,\n",
    "    val_data=validation_set,\n",
    "    collate_fn=collate_fn,\n",
    "    batch_size=32,\n",
    "    num_workers=0,\n",
    ")"
   ]
  },
  {
   "cell_type": "markdown",
   "id": "10",
   "metadata": {},
   "source": [
    "# Model Setup\n",
    "\n",
    "Here, we demonstrate the initialization of the TensorNet architecture. You may use any of the other architectures implemented in MatGL."
   ]
  },
  {
   "cell_type": "code",
   "execution_count": null,
   "id": "11",
   "metadata": {},
   "outputs": [],
   "source": [
    "model = TensorNet(\n",
    "    element_types=element_types,\n",
    "    is_intensive=False,\n",
    "    rbf_type=\"SphericalBessel\",\n",
    "    use_smooth=True,\n",
    "    units=128,\n",
    ")"
   ]
  },
  {
   "cell_type": "code",
   "execution_count": null,
   "id": "12",
   "metadata": {},
   "outputs": [],
   "source": [
    "# calculate scaling factor for training\n",
    "train_graphs = []\n",
    "energies = []\n",
    "forces = []\n",
    "for g, _lat, _attrs, lbs in training_set:\n",
    "    train_graphs.append(g)\n",
    "    energies.append(lbs[\"energies\"])\n",
    "    forces.append(lbs[\"forces\"])\n",
    "forces = torch.concatenate(forces)\n",
    "rms_forces = torch.sqrt(torch.mean(torch.sum(forces**2, dim=1)))\n",
    "# weight initialization\n",
    "xavier_init(model)\n",
    "# setup the optimizer and scheduler\n",
    "optimizer = torch.optim.AdamW(model.parameters(), lr=1.0e-3, weight_decay=1.0e-5, amsgrad=True)\n",
    "scheduler = CosineAnnealingLR(optimizer, T_max=1000 * 10, eta_min=1.0e-2 * 1.0e-3)"
   ]
  },
  {
   "cell_type": "markdown",
   "id": "13",
   "metadata": {},
   "source": [
    "# Setup the potential lightning module\n",
    "\n",
    "Note that the max_epochs is set to 2 here for demonstration purposes. In a real fitting, this number should be much larger (probably > 1000)."
   ]
  },
  {
   "cell_type": "code",
   "execution_count": null,
   "id": "14",
   "metadata": {},
   "outputs": [
    {
     "ename": "KeyError",
     "evalue": "'H'",
     "output_type": "error",
     "traceback": [
      "\u001b[0;31m---------------------------------------------------------------------------\u001b[0m",
      "\u001b[0;31mKeyError\u001b[0m                                  Traceback (most recent call last)",
      "Cell \u001b[0;32mIn[18], line 2\u001b[0m\n\u001b[1;32m      1\u001b[0m \u001b[38;5;66;03m# setup element_refs\u001b[39;00m\n\u001b[0;32m----> 2\u001b[0m energies_offsets \u001b[38;5;241m=\u001b[39m np\u001b[38;5;241m.\u001b[39marray(\u001b[43m[\u001b[49m\u001b[43misolated_energies_pbe\u001b[49m\u001b[43m[\u001b[49m\u001b[43melement\u001b[49m\u001b[43m]\u001b[49m\u001b[43m \u001b[49m\u001b[38;5;28;43;01mfor\u001b[39;49;00m\u001b[43m \u001b[49m\u001b[43melement\u001b[49m\u001b[43m \u001b[49m\u001b[38;5;129;43;01min\u001b[39;49;00m\u001b[43m \u001b[49m\u001b[43mDEFAULT_ELEMENTS\u001b[49m\u001b[43m]\u001b[49m)\n\u001b[1;32m      3\u001b[0m \u001b[38;5;66;03m# initialize the potential lightning module\u001b[39;00m\n\u001b[1;32m      4\u001b[0m lit_model \u001b[38;5;241m=\u001b[39m PotentialLightningModule(\n\u001b[1;32m      5\u001b[0m     model\u001b[38;5;241m=\u001b[39mmodel,\n\u001b[1;32m      6\u001b[0m     element_refs\u001b[38;5;241m=\u001b[39menergies_offsets,\n\u001b[0;32m   (...)\u001b[0m\n\u001b[1;32m     12\u001b[0m     include_line_graph\u001b[38;5;241m=\u001b[39m\u001b[38;5;28;01mFalse\u001b[39;00m,\n\u001b[1;32m     13\u001b[0m )\n",
      "Cell \u001b[0;32mIn[18], line 2\u001b[0m, in \u001b[0;36m<listcomp>\u001b[0;34m(.0)\u001b[0m\n\u001b[1;32m      1\u001b[0m \u001b[38;5;66;03m# setup element_refs\u001b[39;00m\n\u001b[0;32m----> 2\u001b[0m energies_offsets \u001b[38;5;241m=\u001b[39m np\u001b[38;5;241m.\u001b[39marray([\u001b[43misolated_energies_pbe\u001b[49m\u001b[43m[\u001b[49m\u001b[43melement\u001b[49m\u001b[43m]\u001b[49m \u001b[38;5;28;01mfor\u001b[39;00m element \u001b[38;5;129;01min\u001b[39;00m DEFAULT_ELEMENTS])\n\u001b[1;32m      3\u001b[0m \u001b[38;5;66;03m# initialize the potential lightning module\u001b[39;00m\n\u001b[1;32m      4\u001b[0m lit_model \u001b[38;5;241m=\u001b[39m PotentialLightningModule(\n\u001b[1;32m      5\u001b[0m     model\u001b[38;5;241m=\u001b[39mmodel,\n\u001b[1;32m      6\u001b[0m     element_refs\u001b[38;5;241m=\u001b[39menergies_offsets,\n\u001b[0;32m   (...)\u001b[0m\n\u001b[1;32m     12\u001b[0m     include_line_graph\u001b[38;5;241m=\u001b[39m\u001b[38;5;28;01mFalse\u001b[39;00m,\n\u001b[1;32m     13\u001b[0m )\n",
      "\u001b[0;31mKeyError\u001b[0m: 'H'"
     ]
    }
   ],
   "source": [
    "# setup element_refs\n",
    "energies_offsets = np.array([isolated_energies_pbe[element] for element in DEFAULT_ELEMENTS])\n",
    "# initialize the potential lightning module\n",
    "lit_model = PotentialLightningModule(\n",
    "    model=model,\n",
    "    element_refs=energies_offsets,\n",
    "    data_std=rms_forces,\n",
    "    optimizer=optimizer,\n",
    "    scheduler=scheduler,\n",
    "    loss=\"l1_loss\",\n",
    "    stress_weight=0.1,\n",
    "    include_line_graph=False,\n",
    ")\n",
    "# setup loggers\n",
    "path = os.getcwd()\n",
    "logger = CSVLogger(save_dir=path)\n",
    "# setup checkpoints\n",
    "checkpoint_callback = ModelCheckpoint(\n",
    "    save_top_k=1,\n",
    "    monitor=\"val_Total_Loss\",\n",
    "    mode=\"min\",\n",
    "    filename=\"{epoch:04d}-best_model\",\n",
    ")\n",
    "# setup trainer\n",
    "trainer = pl.Trainer(\n",
    "    logger=logger,\n",
    "    callbacks=[EarlyStopping(monitor=\"val_Total_Loss\", mode=\"min\", patience=200), checkpoint_callback],\n",
    "    max_epochs=2,\n",
    "    accelerator=\"cpu\",  # you can use gpu instead\n",
    "    gradient_clip_val=2.0,\n",
    "    accumulate_grad_batches=4,\n",
    "    profiler=\"simple\",\n",
    ")"
   ]
  },
  {
   "cell_type": "markdown",
   "id": "15",
   "metadata": {},
   "source": [
    "# Run the fit"
   ]
  },
  {
   "cell_type": "code",
   "execution_count": null,
   "id": "16",
   "metadata": {},
   "outputs": [],
   "source": [
    "trainer.fit(model=lit_model, train_dataloaders=train_loader, val_dataloaders=val_loader)"
   ]
  },
  {
   "cell_type": "code",
   "execution_count": null,
   "id": "17",
   "metadata": {},
   "outputs": [],
   "source": [
    "# save trained model\n",
    "model_export_path = \"./trained_model/\"\n",
    "lit_model.model.save(model_export_path)"
   ]
  },
  {
   "cell_type": "markdown",
   "id": "18",
   "metadata": {},
   "source": [
    "# Cleanup"
   ]
  },
  {
   "cell_type": "code",
   "execution_count": null,
   "id": "19",
   "metadata": {},
   "outputs": [],
   "source": [
    "# This code just performs cleanup for this notebook.\n",
    "shutil.rmtree(\"MGLDataset\")\n",
    "shutil.rmtree(\"trained_model\")"
   ]
  }
 ],
 "metadata": {
  "kernelspec": {
   "display_name": "Python 3 (ipykernel)",
   "language": "python",
   "name": "python3"
  },
  "language_info": {
   "codemirror_mode": {
    "name": "ipython",
    "version": 3
   },
   "file_extension": ".py",
   "mimetype": "text/x-python",
   "name": "python",
   "nbconvert_exporter": "python",
   "pygments_lexer": "ipython3",
   "version": "3.11.10"
  }
 },
 "nbformat": 4,
 "nbformat_minor": 5
}
